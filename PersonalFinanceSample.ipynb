{
  "nbformat": 4,
  "nbformat_minor": 0,
  "metadata": {
    "colab": {
      "provenance": [],
      "authorship_tag": "ABX9TyNvgWNiRUZjz9AaJXJMFaCC",
      "include_colab_link": true
    },
    "kernelspec": {
      "name": "python3",
      "display_name": "Python 3"
    },
    "language_info": {
      "name": "python"
    }
  },
  "cells": [
    {
      "cell_type": "markdown",
      "metadata": {
        "id": "view-in-github",
        "colab_type": "text"
      },
      "source": [
        "<a href=\"https://colab.research.google.com/github/aiAintEasy-HolyCalamity/PersonalFinanceSample/blob/main/PersonalFinanceSample.ipynb\" target=\"_parent\"><img src=\"https://colab.research.google.com/assets/colab-badge.svg\" alt=\"Open In Colab\"/></a>"
      ]
    },
    {
      "cell_type": "markdown",
      "source": [
        "# **Real-Life RL Example - Personal Finance Assistant**\n",
        "\n",
        "*Scenario: Helping a person manage bills, spending, and saving.*\n",
        "\n",
        "**States:**\n",
        "* Current balance\n",
        "* Pending bills\n",
        "* Remaining days in the month\n",
        "\n",
        "**Actions:**\n",
        "* Pay bill early\n",
        "* Delay payment\n",
        "* Save money\n",
        "* Spend on a want\n",
        "\n",
        "**Rewards:**\n",
        "* Pay bills on time → +10\n",
        "* Avoid overdraft → +20\n",
        "* Late fee → -15\n",
        "* Overdraft → -50\n",
        "* Extra savings → +5\n",
        "\n",
        "**RL Benefit:**\n",
        "* Learns spending patterns over time\n",
        "* Recommends best times to pay bills or save\n",
        "* Prevents overdraft while balancing wants vs needs"
      ],
      "metadata": {
        "id": "kRjl8gXn1QzE"
      }
    },
    {
      "cell_type": "code",
      "source": [
        "\n",
        "import numpy as np\n",
        "import pandas as pd\n",
        "import random\n",
        "\n",
        "#Goal - Having more money​\n",
        "\n",
        "# Sample budget and priority table from the images​\n",
        "expenses = [\n",
        "\t{'Category': 'Rent', 'Amount': 800, 'Priority': 'High'},\n",
        "\t{'Category': 'Car Payment', 'Amount': 250, 'Priority': 'High'},\n",
        "\t{'Category': 'Utilities', 'Amount': 100, 'Priority': 'High'},\n",
        "\t{'Category': 'Netflix', 'Amount': 15, 'Priority': 'Medium'},\n",
        "\t{'Category': 'Groceries', 'Amount': 300, 'Priority': 'High'},\n",
        "\t{'Category': 'Dining Out', 'Amount': 100, 'Priority': 'Low'},\n",
        "\t{'Category': 'Medical/Health', 'Amount': 100, 'Priority': 'High'},\n",
        "\t{'Category': 'Unexpected Repair', 'Amount': 300, 'Priority': 'High'},\n",
        "\t{'Category': 'Savings Goal', 'Amount': 200, 'Priority': 'High'},\n",
        "\t{'Category': 'Extra Bill', 'Amount': 150, 'Priority': 'Low'}\n",
        "]\n",
        "states = ['High Balance', 'Low Balance', 'Safe']\n",
        "actions = ['Pay', 'Save', 'Spend']\n",
        "\n",
        "# Initialize Q-Table​\n",
        "Q = np.zeros((len(states), len(actions)))\n",
        "gamma = 0.9\n",
        "alpha = 0.1\n",
        "\n",
        "# Define reward logic based on priority​\n",
        "reward_lookup = {\n",
        "\t'High': 30, # Paying important bills is highly valuable​\n",
        "\t'Medium': 15,\n",
        "\t'Low': 5,\n",
        "\t'Save': 2, \t# Lowered to reflect realistic bank interest​\n",
        "\t'Spend': -25 # Increased penalty for overspending​\n",
        "}\n",
        "\n",
        "# Simulation​\n",
        "for episode in range(500):\n",
        "\tstate = random.choice(states)\n",
        "\tbalance = 2000 # Starting monthly balance\n",
        "\tfor step in range(12):\n",
        "\t\taction = random.choice(actions)\n",
        "\n",
        "\t\t# Reward computation based on action​\n",
        "\t\tif action == 'Save':\n",
        "\t\t\treward = reward_lookup['Save']\n",
        "\t\t\tbalance += 100\n",
        "\n",
        "\t\telif action == 'Spend':\n",
        "\t\t\treward = reward_lookup['Spend']\n",
        "\t\t\tbalance -= 100\n",
        "\n",
        "\t\telif action == 'Pay':\n",
        "\n",
        "\t\t\t# Randomly select an expense to pay based on priority​\n",
        "\t\t\tif expenses:\n",
        "\t\t\t\texpense = random.choice(expenses)\n",
        "\t\t\t\tbalance -= expense['Amount']\n",
        "\t\t\t\treward = reward_lookup.get(expense['Priority'], -10)\n",
        "\n",
        "\t\t\telse:\n",
        "\t\t\t\treward = -10 # No expenses, apply mild penalty​\n",
        "\n",
        "\t\t# Adjust reward based on balance state​\n",
        "\t\tif balance < 0:\n",
        "\t\t\treward -= 30 # Penalty for overdraft​\n",
        "\t\t\tnext_state = 'Low Balance'\n",
        "\n",
        "\t\telif balance > 1500:\n",
        "\t\t\tnext_state = 'High Balance'\n",
        "\n",
        "\t\telse:\n",
        "\t\t\tnext_state = 'Safe'\n",
        "\t\ts_idx = states.index(state)\n",
        "\t\ta_idx = actions.index(action)\n",
        "\t\tns_idx = states.index(next_state)\n",
        "\n",
        "\t\t# Q-learning update​\n",
        "\t\tQ[s_idx][a_idx] = Q[s_idx][a_idx] + alpha * (\n",
        "\t\t\treward + gamma * np.max(Q[ns_idx]) - Q[s_idx][a_idx]\n",
        "\t\t)\n",
        "\t\tstate = next_state\n",
        "\n",
        "# Convert Q-table to DataFrame for easy display​\n",
        "q_table_data = []\n",
        "\n",
        "for i, state in enumerate(states):\n",
        "\tq_table_data.append({\n",
        "\t\t'State': state,\n",
        "\t\t'Pay': round(Q[i][0], 2),\n",
        "\t\t'Save': round(Q[i][1], 2),\n",
        "\t\t'Spend': round(Q[i][2], 2)\n",
        "\t})\n",
        "q_table_df = pd.DataFrame(q_table_data)\n",
        "print(q_table_df.to_string(index=False))\n",
        "\n",
        "# Add basic test case check​\n",
        "print(\"\\nBasic Check: Q-table shape should be (3 states x 3 actions)\")\n",
        "print(\"Q-table shape:\", Q.shape)\n",
        "assert Q.shape == (3, 3), \"Q-table shape is incorrect.\"\n",
        "print(\"Test Passed: Q-table shape is correct.\")"
      ],
      "metadata": {
        "colab": {
          "base_uri": "https://localhost:8080/"
        },
        "id": "SyZn8lNz2GA4",
        "outputId": "ee6a0b79-2a66-4f5c-ab04-bc1dd6a64eb9"
      },
      "execution_count": 1,
      "outputs": [
        {
          "output_type": "stream",
          "name": "stdout",
          "text": [
            "       State    Pay   Save  Spend\n",
            "High Balance 224.29 201.92 175.33\n",
            " Low Balance 207.32 194.16 171.19\n",
            "        Safe 223.82 203.96 176.78\n",
            "\n",
            "Basic Check: Q-table shape should be (3 states x 3 actions)\n",
            "Q-table shape: (3, 3)\n",
            "Test Passed: Q-table shape is correct.\n"
          ]
        }
      ]
    }
  ]
}